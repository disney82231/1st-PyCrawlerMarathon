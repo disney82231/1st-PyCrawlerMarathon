{
 "cells": [
  {
   "cell_type": "code",
   "execution_count": null,
   "metadata": {},
   "outputs": [],
   "source": [
    "import requests\n",
    "url = 'https://www.zhihu.com/explore'\n",
    "r = requests.get(url)\n",
    "r.encoding = 'utf-8'\n",
    "print(r.text)"
   ]
  },
  {
   "cell_type": "code",
   "execution_count": null,
   "metadata": {},
   "outputs": [],
   "source": [
    "'''\n",
    "放上截圖\n",
    "'''"
   ]
  },
  {
   "cell_type": "code",
   "execution_count": 8,
   "metadata": {},
   "outputs": [],
   "source": [
    "import requests\n",
    "url = 'http://www.zhihu.com'\n",
    "\n",
    "headers = {'authority': 'www.zhihu.com',\n",
    "'method': 'GET',\n",
    "'path': '/explore',\n",
    "'scheme': 'https',\n",
    "'accept': 'text/html,application/xhtml+xml,application/xml;q=0.9,image/webp,image/apng,*/*;q=0.8,application/signed-exchange;v=b3;q=0.9',\n",
    "'accept-encoding': 'gzip, deflate, br',\n",
    "'accept-language': 'zh-TW,zh;q=0.9,en-US;q=0.8,en;q=0.7',\n",
    "'cache-control': 'max-age=0',\n",
    "'cookie': '_zap=4dfeafd9-10f4-46e8-a7a7-16955a2b34d7; _xsrf=6d1c585c-b0af-4b66-8906-c3fffcd79a63; d_c0=\"ADCmQ-zdPBCPTi2PgruQ-5q6v72VKUkUS7w=|1571742614\"; Hm_lvt_98beee57fd2ef70ccdd5ca52b9740c49=1576326991,1576401940,1576760371,1577087845; tgw_l7_route=80f350dcd7c650b07bd7b485fcab5bf7; capsion_ticket=\"2|1:0|10:1577094954|14:capsion_ticket|44:ZDI0MWMxZThjNGM0NDgyZGFjODJhZTY2MjM1NGIzM2I=|7a9ef4f4f5fe2fe682de94b45ba44fc4873e5df45d30b67e2f6ad626607062a2\"; Hm_lpvt_98beee57fd2ef70ccdd5ca52b9740c49=1577095005',\n",
    "'sec-fetch-mode':'navigate',\n",
    "'sec-fetch-site': 'none',\n",
    "'sec-fetch-user': '?1',\n",
    "'upgrade-insecure-requests': '1',\n",
    "'user-agent':'Mozilla/5.0 (Windows NT 10.0; Win64; x64) AppleWebKit/537.36 (KHTML, like Gecko) Chrome/79.0.3945.88 Safari/537.36'\n",
    "\n",
    "}"
   ]
  },
  {
   "cell_type": "code",
   "execution_count": 9,
   "metadata": {},
   "outputs": [
    {
     "name": "stdout",
     "output_type": "stream",
     "text": [
      "<!doctype html>\n",
      "<html lang=\"zh\" data-hairline=\"true\" data-theme=\"light\"><head><meta charSet=\"utf-8\"/><title data-react-helmet=\"true\">知乎 - 有问题，上知乎</title><meta name=\"viewport\" content=\"width=device-width,initial-scale=1,maximum-scale=1\"/><meta name=\"renderer\" content=\"webkit\"/><meta name=\"force-rendering\" content=\"webkit\"/><meta http-equiv=\"X-UA-Compatible\" content=\"IE=edge,chrome=1\"/><meta name=\"google-site-verification\" content=\"FTeR0c8arOPKh8c5DYh_9uu98_zJbaWw53J-Sch9MTg\"/><meta name=\"description\" property=\"og:description\" content=\"有问题，上知乎。知乎，可信赖的问答社区，以让每个人高效获得可信赖的解答为使命。知乎凭借认真、专业和友善的社区氛围，结构化\n"
     ]
    }
   ],
   "source": [
    "r = requests.get(url, headers=headers)\n",
    "\n",
    "r.encoding = 'utf-8'\n",
    "print(r.text[0:600])"
   ]
  },
  {
   "cell_type": "code",
   "execution_count": 11,
   "metadata": {},
   "outputs": [
    {
     "name": "stdout",
     "output_type": "stream",
     "text": [
      "<html>\n",
      "<head><title>503 Service Temporarily Unavailable</title></head>\n",
      "<body bgcolor=\"white\">\n",
      "<center><h1>503 Service Temporarily Unavailable</h1></center>\n",
      "<hr><center>nginx</center>\n",
      "</body>\n",
      "</html>\n",
      "<!-- a padding to disable MSIE and Chrome friendly error page -->\n",
      "<!-- a padding to disable MSIE and Chrome friendly error page -->\n",
      "<!-- a padding to disable MSIE and Chrome friendly error page -->\n",
      "<!-- a padding to disable MSIE and Chrome friendly error page -->\n",
      "<!-- a padding to disable MSIE and Chrome friendly error page -->\n",
      "<!-- a padding to disable MSIE and Chrome friendly error pa\n"
     ]
    }
   ],
   "source": [
    "import requests\n",
    "url = 'http://aicoin.cn/'\n",
    "\n",
    "headers = {\n",
    "'Accept': 'text/html,application/xhtml+xml,application/xml;q=0.9,image/webp,image/apng,*/*;q=0.8,application/signed-exchange;v=b3;q=0.9',\n",
    "'Accept-Encoding': 'gzip, deflate, br',\n",
    "'Accept-Language': 'zh-TW,zh;q=0.9,en-US;q=0.8,en;q=0.7',\n",
    "'Cache-Control':'max-age=0',\n",
    "'Connection': 'keep-alive',\n",
    "'Cookie': 'HWWAFSESID=ba990ac3ce5fee3132; HWWAFSESTIME=1577096522744; _pk_testcookie..undefined=1; _pk_testcookie.2.57ea=1; _pk_id.2.57ea=f1ff719c3729c49b.1577096526.1.1577096527.1577096526.; _pk_ses.2.57ea=1; _ga=GA1.2.1139411816.1577096526; _gid=GA1.2.699733965.1577096527; Hm_lvt_3c606e4c5bc6e9ff490f59ae4106beb4=1577096527; Hm_lpvt_3c606e4c5bc6e9ff490f59ae4106beb4=1577096527; aicoin_session=eyJpdiI6Im1DWEdYYktSVkw5TWlZRlVHdUUrYlE9PSIsInZhbHVlIjoiVXBWQXRpSzVJbE5meUFMc3U0bVFieklcLzdESlJGdW5VOG53elwva0ZEZFJOVjZOdkNDUlFYSTdpQzZjd3l0ZllIcFRjcGNYZEluZUpUZnM2Qk90TG1vdz09IiwibWFjIjoiYmZmZDY3ODQ0ZDdiYzIzMjA1Yzk4YzA3NzJkYmE3MjUxZWI0Y2QzY2RhNTM0YjRmOTY5N2JhMmRiNzBiZDk0MyJ9',\n",
    "'Host': 'www.aicoin.cn',\n",
    "'Sec-Fetch-Mode': 'navigate',\n",
    "'Sec-Fetch-Site': 'same-origin',\n",
    "'Sec-Fetch-User': '?1',\n",
    "'Upgrade-Insecure-Requests': '1',\n",
    "'User-Agent': 'Mozilla/5.0 (Windows NT 10.0; Win64; x64) AppleWebKit/537.36 (KHTML, like Gecko) Chrome/79.0.3945.88 Safari/537.36'\n",
    "}\n",
    "\n",
    "r = requests.get(url, headers=headers)\n",
    "print(r.text[0:600])"
   ]
  },
  {
   "cell_type": "code",
   "execution_count": null,
   "metadata": {},
   "outputs": [],
   "source": []
  }
 ],
 "metadata": {
  "kernelspec": {
   "display_name": "Python 3",
   "language": "python",
   "name": "python3"
  },
  "language_info": {
   "codemirror_mode": {
    "name": "ipython",
    "version": 3
   },
   "file_extension": ".py",
   "mimetype": "text/x-python",
   "name": "python",
   "nbconvert_exporter": "python",
   "pygments_lexer": "ipython3",
   "version": "3.6.6"
  }
 },
 "nbformat": 4,
 "nbformat_minor": 2
}

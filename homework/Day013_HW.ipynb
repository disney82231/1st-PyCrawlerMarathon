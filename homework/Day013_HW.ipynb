{
 "cells": [
  {
   "cell_type": "code",
   "execution_count": 58,
   "metadata": {},
   "outputs": [],
   "source": [
    "\n",
    "import requests\n",
    "from bs4 import BeautifulSoup\n",
    "\n",
    "url = 'https://www.ptt.cc/bbs/NBA/index6505.html'\n",
    "r = requests.get(url)"
   ]
  },
  {
   "cell_type": "code",
   "execution_count": 49,
   "metadata": {},
   "outputs": [
    {
     "name": "stdout",
     "output_type": "stream",
     "text": [
      "NBA\n",
      "None\n"
     ]
    }
   ],
   "source": [
    "# url = 'https://www.ptt.cc/bbs/NBA/M.1576042863.A.B7A.html'\n",
    "# r = requests.get(url)\n",
    "# soup = BeautifulSoup(r.text, \"html5lib\")\n",
    "# soup.find_all(class_='article-meta-value')\n",
    "# print(soup.find_all(class_='article-meta-value')[1].text)\n",
    "# print(soup.find(class_='article-meta-value').text)"
   ]
  },
  {
   "cell_type": "code",
   "execution_count": 59,
   "metadata": {},
   "outputs": [
    {
     "name": "stdout",
     "output_type": "stream",
     "text": [
      "[新聞] Tatum:會努力幫助球隊贏球，自己也想入選\n",
      "作者: Muma5566 (木馬56)\n",
      "時間: Wed Dec 11 13:40:59 2019\n",
      "[花邊] Nelson談論當年Howard在魔術的\"魔獸人生\"\n",
      "作者: TheBatman (蝙蝠俠)\n",
      "時間: Wed Dec 11 13:52:04 2019\n",
      "[新聞] 卡特第1500場出賽 史上第5人\n",
      "作者: LinBaoYan (負酬者聯盟)\n",
      "時間: Wed Dec 11 13:55:41 2019\n",
      "[花邊] 厄文持續缺賽 錯失激勵獎金12.5萬美元\n",
      "作者: thnlkj0665 (灰色地帶)\n",
      "時間: Wed Dec 11 14:38:00 2019\n",
      "[花邊] 當湖人主場播放歌手Lizzo歌曲時，本人在場邊直接表演露臀舞\n",
      "作者: kairiyu (E N O U G H  is  enough)\n",
      "時間: Wed Dec 11 14:59:16 2019\n",
      "[花邊]J.J. Culver 砍下100分\n",
      "作者: innocent8675 (坤溪戴維斯)\n",
      "時間: Wed Dec 11 14:59:57 2019\n",
      "[花邊] KD重申了自己想要擁有一支NBA球隊的願望\n",
      "作者: NSYSUheng (Madara)\n",
      "時間: Wed Dec 11 15:39:17 2019\n",
      "Re: [花邊] Jimmy Butler的instagram貼文\n",
      "作者: tmac4ever ()\n",
      "時間: Wed Dec 11 16:21:42 2019\n",
      "[新聞] 三分砲火猛烈 伯坦斯：籃框實在太寬了\n",
      "作者: Israfil (贖罪聖音)\n",
      "時間: Wed Dec 11 16:56:49 2019\n",
      "[情報] New Balance 為Kawhi架設看板感謝多倫多\n",
      "作者: thnlkj0665 (灰色地帶)\n",
      "時間: Wed Dec 11 17:39:27 2019\n",
      "[花邊] Tacko Fall：KG是傳奇，見到他對我意義\n",
      "作者: lovea (lovea)\n",
      "時間: Wed Dec 11 17:54:26 2019\n",
      "(已被Vedan刪除) <qq326>1-1 1-2\n",
      "[討論] 08年京奧男籃的西班牙很謎嗎?\n",
      "作者: Darren2012 (達倫)\n",
      "時間: Wed Dec 11 19:33:05 2019\n",
      "(本文已被刪除) [VeryGoodBoy]\n",
      "[討論] LBJ在投三分球之前的準備動作\n",
      "作者: pneumo (超☆冒險蓋)\n",
      "時間: Wed Dec 11 20:50:32 2019\n",
      "[花邊] 全能後衛！Ish Smith在暫停時幫忙拖地\n",
      "作者: whoAU (你是誰？)\n",
      "時間: Wed Dec 11 20:59:53 2019\n",
      "[花邊] 前賽爾提克球員因未尊重中國國歌遭罰款\n",
      "作者: LinBaoYan (負酬者聯盟)\n",
      "時間: Wed Dec 11 21:28:45 2019\n",
      "[花邊] 舞王賽後發聲：跟隨我\n",
      "作者: s27052705 (小飽)\n",
      "時間: Wed Dec 11 22:00:02 2019\n",
      "[討論] 哈登的後撤三分是現今最難被防守的嗎\n",
      "作者: ghost069 (阿鬼)\n",
      "時間: Wed Dec 11 22:53:02 2019\n",
      "[專欄] 唐西奇頂尖擋拆技巧 獨行俠超強火力解密\n",
      "作者: hvariables (Speculative Male)\n",
      "時間: Wed Dec 11 23:38:16 2019\n"
     ]
    }
   ],
   "source": [
    "soup = BeautifulSoup(r.text, \"html5lib\")\n",
    "for d in soup.find_all(class_=\"title\"):\n",
    "    print(d.text.replace('\\t', '').replace('\\n', ''))\n",
    "    try:\n",
    "        r = BeautifulSoup(requests.get('https://www.ptt.cc'+d.find('a')['href']).text, \"html5lib\")\n",
    "        print('作者: ' + r.find(class_='article-meta-value').text)\n",
    "        print('時間: ' + r.find_all(class_='article-meta-value')[3].text)\n",
    "    except:\n",
    "        continue\n"
   ]
  },
  {
   "cell_type": "code",
   "execution_count": null,
   "metadata": {},
   "outputs": [],
   "source": []
  },
  {
   "cell_type": "code",
   "execution_count": null,
   "metadata": {},
   "outputs": [],
   "source": []
  }
 ],
 "metadata": {
  "kernelspec": {
   "display_name": "Python 3",
   "language": "python",
   "name": "python3"
  },
  "language_info": {
   "codemirror_mode": {
    "name": "ipython",
    "version": 3
   },
   "file_extension": ".py",
   "mimetype": "text/x-python",
   "name": "python",
   "nbconvert_exporter": "python",
   "pygments_lexer": "ipython3",
   "version": "3.6.6"
  }
 },
 "nbformat": 4,
 "nbformat_minor": 2
}

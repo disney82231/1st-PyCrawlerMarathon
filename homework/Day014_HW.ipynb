{
 "cells": [
  {
   "cell_type": "code",
   "execution_count": 33,
   "metadata": {},
   "outputs": [],
   "source": [
    "import requests\n",
    "import re\n",
    "from bs4 import BeautifulSoup"
   ]
  },
  {
   "cell_type": "code",
   "execution_count": 34,
   "metadata": {},
   "outputs": [],
   "source": [
    "url = 'https://movies.yahoo.com.tw/'\n",
    "r=requests.get(url)\n",
    "soup=BeautifulSoup(r.text)"
   ]
  },
  {
   "cell_type": "code",
   "execution_count": null,
   "metadata": {},
   "outputs": [],
   "source": []
  },
  {
   "cell_type": "code",
   "execution_count": 38,
   "metadata": {},
   "outputs": [],
   "source": [
    "# 查看目前上映那些電影，並擷取出其ID資訊\n",
    "url = 'https://movies.yahoo.com.tw/'\n",
    "resp = requests.get(url)\n",
    "resp.encoding = 'utf-8'\n",
    "\n",
    "soup = BeautifulSoup(resp.text, 'lxml')\n",
    "html = soup.find(\"select\", attrs={'name':'movie_id'})"
   ]
  },
  {
   "cell_type": "code",
   "execution_count": 39,
   "metadata": {},
   "outputs": [
    {
     "data": {
      "text/plain": [
       "<select class=\"movie_name\" id=\"sbox_mid\" name=\"movie_id\">\n",
       "<option value=\"\">請選擇片名</option>\n",
       "<option data-name=\"特約經紀公司\" value=\"10364\">特約經紀公司</option>\n",
       "<option data-name=\"一屍到底番外篇：好萊塢大作戰！\" value=\"10352\">一屍到底番外篇：好萊塢大作戰！</option>\n",
       "<option data-name=\"餓魔餐廳\" value=\"10342\">餓魔餐廳</option>\n",
       "<option data-name=\"花生醬獵鷹的願望\" value=\"10340\">花生醬獵鷹的願望</option>\n",
       "<option data-name=\"女孩要革命\" value=\"10339\">女孩要革命</option>\n",
       "<option data-name=\"我的靈魂是愛做的\" value=\"10336\">我的靈魂是愛做的</option>\n",
       "<option data-name=\"絕世情歌\" value=\"10328\">絕世情歌</option>\n",
       "<option data-name=\"人間失格：太宰治與他的3個女人\" value=\"10287\">人間失格：太宰治與他的3個女人</option>\n",
       "<option data-name=\"抓狂博物館\" value=\"10279\">抓狂博物館</option>\n",
       "<option data-name=\"呆萌特務\" value=\"10264\">呆萌特務</option>\n",
       "<option data-name=\"去年聖誕節\" value=\"10256\">去年聖誕節</option>\n",
       "<option data-name=\"野蠻遊戲：全面晉級\" value=\"10134\">野蠻遊戲：全面晉級</option>\n",
       "<option data-name=\"布紐爾超現實人生\" value=\"10334\">布紐爾超現實人生</option>\n",
       "<option data-name=\"夕霧花園\" value=\"10327\">夕霧花園</option>\n",
       "<option data-name=\"寂寞診療室\" value=\"10282\">寂寞診療室</option>\n",
       "<option data-name=\"懸案密碼前傳：瓶中信\" value=\"10254\">懸案密碼前傳：瓶中信</option>\n",
       "<option data-name=\"布魯克林孤兒\" value=\"10224\">布魯克林孤兒</option>\n",
       "<option data-name=\"暴走曼哈頓\" value=\"10044\">暴走曼哈頓</option>\n",
       "<option data-name=\"鋒迴路轉\" value=\"10258\">鋒迴路轉</option>\n",
       "<option data-name=\"賽道狂人\" value=\"10097\">賽道狂人</option>\n",
       "<option data-name=\"麂皮：永不滿足\" value=\"10358\">麂皮：永不滿足</option>\n",
       "<option data-name=\"82年生的金智英\" value=\"10298\">82年生的金智英</option>\n",
       "<option data-name=\"許怨房\" value=\"10294\">許怨房</option>\n",
       "<option data-name=\"BanG Dream！ FILM LIVE\" value=\"10271\">BanG Dream！ FILM LIVE</option>\n",
       "<option data-name=\"冰雪奇緣2\" value=\"9597\">冰雪奇緣2</option>\n",
       "<option data-name=\"催眠．裁決\" value=\"10322\">催眠．裁決</option>\n",
       "<option data-name=\"抱歉我們錯過你了\" value=\"10309\">抱歉我們錯過你了</option>\n",
       "<option data-name=\"Hello World\" value=\"10302\">Hello World</option>\n",
       "<option data-name=\"大餓\" value=\"10296\">大餓</option>\n",
       "<option data-name=\"萬萬沒想到\" value=\"10281\">萬萬沒想到</option>\n",
       "<option data-name=\"神機有毛病\" value=\"10260\">神機有毛病</option>\n",
       "<option data-name=\"為美好的世界獻上祝福！紅傳說\" value=\"10226\">為美好的世界獻上祝福！紅傳說</option>\n",
       "<option data-name=\"樂園\" value=\"10280\">樂園</option>\n",
       "<option data-name=\"決戰中途島\" value=\"10130\">決戰中途島</option>\n",
       "<option data-name=\"安眠醫生\" value=\"10098\">安眠醫生</option>\n",
       "<option data-name=\"地久天長\" value=\"9621\">地久天長</option>\n",
       "<option data-name=\"魔鬼終結者：黑暗宿命\" value=\"10067\">魔鬼終結者：黑暗宿命</option>\n",
       "<option data-name=\"陽光普照\" value=\"10240\">陽光普照</option>\n",
       "<option data-name=\"阿達一族\" value=\"9992\">阿達一族</option>\n",
       "<option data-name=\"狙擊獵殺：救援行動\" value=\"10284\">狙擊獵殺：救援行動</option>\n",
       "<option data-name=\"雙子殺手\" value=\"10017\">雙子殺手</option>\n",
       "<option data-name=\"盲人律師\" value=\"10267\">盲人律師</option>\n",
       "<option data-name=\"黑魔女2\" value=\"10262\">黑魔女2</option>\n",
       "<option data-name=\"電影版 壞傢伙們\" value=\"10249\">電影版 壞傢伙們</option>\n",
       "<option data-name=\"藍波：最後一滴血\" value=\"10205\">藍波：最後一滴血</option>\n",
       "<option data-name=\"屍樂園：髒比雙拼\" value=\"10176\">屍樂園：髒比雙拼</option>\n",
       "<option data-name=\"弒婚遊戲\" value=\"10171\">弒婚遊戲</option>\n",
       "<option data-name=\"108悍將\" value=\"10238\">108悍將</option>\n",
       "<option data-name=\"小丑\" value=\"9949\">小丑</option>\n",
       "<option data-name=\"瞞天機密\" value=\"10206\">瞞天機密</option>\n",
       "<option data-name=\"校外打怪教學\" value=\"10200\">校外打怪教學</option>\n",
       "<option data-name=\"信用詐欺師JP\" value=\"10190\">信用詐欺師JP</option>\n",
       "<option data-name=\"無間行動\" value=\"10155\">無間行動</option>\n",
       "<option data-name=\"星際救援\" value=\"10227\">星際救援</option>\n",
       "<option data-name=\"返校\" value=\"10109\">返校</option>\n",
       "<option data-name=\"今天也要用便當出擊\" value=\"10223\">今天也要用便當出擊</option>\n",
       "<option data-name=\"花椒之味\" value=\"10158\">花椒之味</option>\n",
       "<option data-name=\"我家有個開心農場\" value=\"10145\">我家有個開心農場</option>\n",
       "<option data-name=\"好小男孩\" value=\"9894\">好小男孩</option>\n",
       "<option data-name=\"牠 第二章\" value=\"10042\">牠 第二章</option>\n",
       "<option data-name=\"極限逃生\" value=\"10174\">極限逃生</option>\n",
       "<option data-name=\"雙面特務\" value=\"10163\">雙面特務</option>\n",
       "<option data-name=\"你願意嫁給我老公嗎？\" value=\"10141\">你願意嫁給我老公嗎？</option>\n",
       "<option data-name=\"第九分局\" value=\"10099\">第九分局</option>\n",
       "<option data-name=\"下半場\" value=\"9807\">下半場</option>\n",
       "<option data-name=\"全面攻佔3：天使救援\" value=\"10082\">全面攻佔3：天使救援</option>\n",
       "<option data-name=\"普羅米亞\" value=\"10119\">普羅米亞</option>\n",
       "<option data-name=\"驅魔使者\" value=\"10095\">驅魔使者</option>\n",
       "<option data-name=\"憤怒鳥玩電影2：冰的啦\" value=\"10002\">憤怒鳥玩電影2：冰的啦</option>\n",
       "<option data-name=\"玩命關頭：特別行動\" value=\"9582\">玩命關頭：特別行動</option>\n",
       "<option data-name=\"獅子王\" value=\"9116\">獅子王</option>\n",
       "<option data-name=\"玩具總動員4\" value=\"9924\">玩具總動員4</option>\n",
       "<option data-name=\"毀滅者\" value=\"9405\">毀滅者</option>\n",
       "<option data-name=\"庫爾斯克號：深海救援\" value=\"9134\">庫爾斯克號：深海救援</option>\n",
       "<option data-name=\"厄夜追緝令\" value=\"9589\">厄夜追緝令</option>\n",
       "<option data-name=\"苦兒流浪記\" value=\"9538\">苦兒流浪記</option>\n",
       "<option data-name=\"活個精彩\" value=\"9394\">活個精彩</option>\n",
       "<option data-name=\"限時好友\" value=\"9578\">限時好友</option>\n",
       "<option data-name=\"祝你忌日快樂\" value=\"9568\">祝你忌日快樂</option>\n",
       "<option data-name=\"艾莉塔：戰鬥天使\" value=\"8553\">艾莉塔：戰鬥天使</option>\n",
       "<option data-name=\"馴龍高手3\" value=\"8350\">馴龍高手3</option>\n",
       "<option data-name=\"幸福綠皮書\" value=\"9150\">幸福綠皮書</option>\n",
       "<option data-name=\"貝士浮生錄\" value=\"6906\">貝士浮生錄</option>\n",
       "<option data-name=\"一首搖滾上月球\" value=\"4887\">一首搖滾上月球</option>\n",
       "<option data-name=\"錢不夠用2\" value=\"3026\">錢不夠用2</option>\n",
       "</select>"
      ]
     },
     "execution_count": 39,
     "metadata": {},
     "output_type": "execute_result"
    }
   ],
   "source": [
    "html"
   ]
  },
  {
   "cell_type": "code",
   "execution_count": 24,
   "metadata": {},
   "outputs": [
    {
     "data": {
      "text/plain": [
       "'一屍到底番外篇：好萊塢大作戰！'"
      ]
     },
     "execution_count": 24,
     "metadata": {},
     "output_type": "execute_result"
    }
   ],
   "source": [
    "html.find_all('option',attrs={'data-name':re.compile('.*')})[1]['data-name']"
   ]
  },
  {
   "cell_type": "code",
   "execution_count": 25,
   "metadata": {},
   "outputs": [
    {
     "name": "stdout",
     "output_type": "stream",
     "text": [
      "Movie: 特約經紀公司, ID: 10364\n",
      "Movie: 一屍到底番外篇：好萊塢大作戰！, ID: 10352\n",
      "Movie: 餓魔餐廳, ID: 10342\n",
      "Movie: 花生醬獵鷹的願望, ID: 10340\n",
      "Movie: 女孩要革命, ID: 10339\n",
      "Movie: 我的靈魂是愛做的, ID: 10336\n",
      "Movie: 絕世情歌, ID: 10328\n",
      "Movie: 人間失格：太宰治與他的3個女人, ID: 10287\n",
      "Movie: 抓狂博物館, ID: 10279\n",
      "Movie: 呆萌特務, ID: 10264\n",
      "Movie: 去年聖誕節, ID: 10256\n",
      "Movie: 野蠻遊戲：全面晉級, ID: 10134\n",
      "Movie: 布紐爾超現實人生, ID: 10334\n",
      "Movie: 夕霧花園, ID: 10327\n",
      "Movie: 寂寞診療室, ID: 10282\n",
      "Movie: 懸案密碼前傳：瓶中信, ID: 10254\n",
      "Movie: 布魯克林孤兒, ID: 10224\n",
      "Movie: 暴走曼哈頓, ID: 10044\n",
      "Movie: 鋒迴路轉, ID: 10258\n",
      "Movie: 賽道狂人, ID: 10097\n",
      "Movie: 麂皮：永不滿足, ID: 10358\n",
      "Movie: 82年生的金智英, ID: 10298\n",
      "Movie: 許怨房, ID: 10294\n",
      "Movie: BanG Dream！ FILM LIVE, ID: 10271\n",
      "Movie: 冰雪奇緣2, ID: 9597\n",
      "Movie: 催眠．裁決, ID: 10322\n",
      "Movie: 抱歉我們錯過你了, ID: 10309\n",
      "Movie: Hello World, ID: 10302\n",
      "Movie: 大餓, ID: 10296\n",
      "Movie: 萬萬沒想到, ID: 10281\n",
      "Movie: 神機有毛病, ID: 10260\n",
      "Movie: 為美好的世界獻上祝福！紅傳說, ID: 10226\n",
      "Movie: 樂園, ID: 10280\n",
      "Movie: 決戰中途島, ID: 10130\n",
      "Movie: 安眠醫生, ID: 10098\n",
      "Movie: 地久天長, ID: 9621\n",
      "Movie: 魔鬼終結者：黑暗宿命, ID: 10067\n",
      "Movie: 陽光普照, ID: 10240\n",
      "Movie: 阿達一族, ID: 9992\n",
      "Movie: 狙擊獵殺：救援行動, ID: 10284\n",
      "Movie: 雙子殺手, ID: 10017\n",
      "Movie: 盲人律師, ID: 10267\n",
      "Movie: 黑魔女2, ID: 10262\n",
      "Movie: 電影版 壞傢伙們, ID: 10249\n",
      "Movie: 藍波：最後一滴血, ID: 10205\n",
      "Movie: 屍樂園：髒比雙拼, ID: 10176\n",
      "Movie: 弒婚遊戲, ID: 10171\n",
      "Movie: 108悍將, ID: 10238\n",
      "Movie: 小丑, ID: 9949\n",
      "Movie: 瞞天機密, ID: 10206\n",
      "Movie: 校外打怪教學, ID: 10200\n",
      "Movie: 信用詐欺師JP, ID: 10190\n",
      "Movie: 無間行動, ID: 10155\n",
      "Movie: 星際救援, ID: 10227\n",
      "Movie: 返校, ID: 10109\n",
      "Movie: 今天也要用便當出擊, ID: 10223\n",
      "Movie: 花椒之味, ID: 10158\n",
      "Movie: 我家有個開心農場, ID: 10145\n",
      "Movie: 好小男孩, ID: 9894\n",
      "Movie: 牠 第二章, ID: 10042\n",
      "Movie: 極限逃生, ID: 10174\n",
      "Movie: 雙面特務, ID: 10163\n",
      "Movie: 你願意嫁給我老公嗎？, ID: 10141\n",
      "Movie: 第九分局, ID: 10099\n",
      "Movie: 下半場, ID: 9807\n",
      "Movie: 全面攻佔3：天使救援, ID: 10082\n",
      "Movie: 普羅米亞, ID: 10119\n",
      "Movie: 驅魔使者, ID: 10095\n",
      "Movie: 憤怒鳥玩電影2：冰的啦, ID: 10002\n",
      "Movie: 玩命關頭：特別行動, ID: 9582\n",
      "Movie: 獅子王, ID: 9116\n",
      "Movie: 玩具總動員4, ID: 9924\n",
      "Movie: 毀滅者, ID: 9405\n",
      "Movie: 庫爾斯克號：深海救援, ID: 9134\n",
      "Movie: 厄夜追緝令, ID: 9589\n",
      "Movie: 苦兒流浪記, ID: 9538\n",
      "Movie: 活個精彩, ID: 9394\n",
      "Movie: 限時好友, ID: 9578\n",
      "Movie: 祝你忌日快樂, ID: 9568\n",
      "Movie: 艾莉塔：戰鬥天使, ID: 8553\n",
      "Movie: 馴龍高手3, ID: 8350\n",
      "Movie: 幸福綠皮書, ID: 9150\n",
      "Movie: 貝士浮生錄, ID: 6906\n",
      "Movie: 一首搖滾上月球, ID: 4887\n",
      "Movie: 錢不夠用2, ID: 3026\n"
     ]
    }
   ],
   "source": [
    "movie_item = html.find_all(\"option\", attrs={'data-name':re.compile('.*')})\n",
    "\n",
    "for p in movie_item:\n",
    "    print(\"Movie: %s, ID: %s\" % (p[\"data-name\"], p[\"value\"]))"
   ]
  },
  {
   "cell_type": "code",
   "execution_count": 40,
   "metadata": {},
   "outputs": [],
   "source": [
    "\n",
    "# 參考前一個步驟中擷取到的ID資訊，並指定ID\n",
    "movie_id = 10364"
   ]
  },
  {
   "cell_type": "code",
   "execution_count": 41,
   "metadata": {},
   "outputs": [
    {
     "name": "stdout",
     "output_type": "stream",
     "text": [
      "放映地區: 台北市, 代號(area_id): 28\n",
      "放映地區: 桃園, 代號(area_id): 16\n",
      "放映地區: 高雄, 代號(area_id): 17\n"
     ]
    }
   ],
   "source": [
    "url = 'https://movies.yahoo.com.tw/api/v1/areas_by_movie_theater'\n",
    "payload = {'movie_id':str(movie_id)}\n",
    "\n",
    "# 模擬一個header\n",
    "headers = {\n",
    "    'authority': 'movies.yahoo.com.tw',\n",
    "    'method': 'GET',\n",
    "    'path': '/api/v1/areas_by_movie_theater?movie_id=' + str(movie_id),\n",
    "    'scheme': 'https',\n",
    "    'accept': 'application/json, text/javascript, */*; q=0.01',\n",
    "    'accept-encoding': 'gzip, deflate, br',\n",
    "    'accept-language': 'zh-TW,zh;q=0.9,en-US;q=0.8,en;q=0.7,zh-CN;q=0.6',\n",
    "    'cookie': 'rxx=9s3x2fws06.1g16irnc&v=1; _ga=GA1.3.2056742944.1551651301; GUC=AQEBAQFczFpdm0IfmwSB&s=AQAAACoo4N5D&g=XMsVBw; BX=4hkdk1decm57t&b=3&s=mr; _ga=GA1.4.2056742944.1551651301; nexagesuid=82843256dd234e8e91aa73f2062f8218; browsed_movie=eyJpdiI6IlJXWWtiSWJaZlNGK2MxQnhscnVUYWc9PSIsInZhbHVlIjoiMXRhMmVHRXRIeUNjc1RBWDJzdGYwbnlIQURmWGsrcjJSMzhkbkcraDNJVUNIZEZsbzU3amlFcVZ1NzlmazJrTGpoMjVrbHk1YmpoRENXaHZTOUw1TmI2ZTZVWHdOejZQZm16RmVuMWlHTTJLaTZLVFZZVkFOMDlTd1wvSGltcytJIiwibWFjIjoiZWQ2ZjA4MmVjZmZlYjlmNjJmYmY2NGMyMDI0Njc0NWViYjVkOWE2NDg0N2RhODMxZjBjZDhiMmJhZTc2MDZhYiJ9; avi=eyJpdiI6Im1NeWFJRlVRWDR1endEcGRGUGJUbVE9PSIsInZhbHVlIjoickRpU3JuUytmcGl6cjF5OW0rNU9iZz09IiwibWFjIjoiY2VmY2NkNzZmM2NhNjY5YzlkOTcyNjE5OGEyMzU0NWYxOTdmMDRkMDY3OWNmMmZjOTMxYjc5MjI5N2Q5NGE5MiJ9; cmp=t=1559391030&j=0; _gid=GA1.4.779543841.1559391031; XSRF-TOKEN=eyJpdiI6IkhpS2hGcDRQaHlmWUJmaHdSS2Q2bHc9PSIsInZhbHVlIjoiOUVoNFk4OHI1UUZmUWRtYXhza0MyWjJSTlhlZ3RnT0VGeVJPN2JuczVRMGRFdWt2OUlsamVKeHRobFwvcHBGM0dhU3VyMXNGTHlsb2dVM2l0U1hpUGxBPT0iLCJtYWMiOiJkZWU4YzJhNjAxMTY3MzE4Y2ExNWIxYmE1ZjE1YWZlZTlhOTcyYjc4M2RlZGY4ZWNjZDYyMTA2NGYwZGViMzc2In0%3D; m_s=eyJpdiI6InpsZHZ2Tk1BZ0dxaHhETml1RjBnUXc9PSIsInZhbHVlIjoiSkNGeHUranRoXC85bDFiaDhySTJqNkJRcWdjWUxjeVRJSHVYZ1wvd2d4bWJZUTUrSHVDM0lUcW5KNHdETFZ4T1lieU81OUhzc1VoUXhZcWk0UDZSQXVFdz09IiwibWFjIjoiYmJkMDJkMDhlODIzMzcyMWY4M2NmYWNjNGVlOWRjMDIwZmVmNzAyMjE3Yzg3ZGY3ODBkZWEzZTI4MTI5ZWNmOSJ9; _gat=1; nexagesd=10',\n",
    "    'dnt': '1',\n",
    "    'mv-authorization': '21835b082e15b91a69b3851eec7b31b82ce82afb',\n",
    "    'referer': 'https://movies.yahoo.com.tw/',\n",
    "    'user-agent': 'Mozilla/5.0 (Windows NT 10.0; Win64; x64) AppleWebKit/537.36 (KHTML, like Gecko) Chrome/74.0.3729.169 Safari/537.36',\n",
    "    'x-requested-with': 'XMLHttpRequest',\n",
    "}\n",
    "    \n",
    "resp = requests.get(url, params=payload, headers=headers)\n",
    "#print(resp.json())  # 若有需要，列印出json原始碼\n",
    "\n",
    "# 這裡回傳的格式是JSON格式的資料，要解析JSON擷取資料\n",
    "for p in resp.json():\n",
    "    print('放映地區: {0}, 代號(area_id): {1}'.format(p['title'], p['area_id']))"
   ]
  },
  {
   "cell_type": "code",
   "execution_count": 32,
   "metadata": {},
   "outputs": [
    {
     "data": {
      "text/plain": [
       "[]"
      ]
     },
     "execution_count": 32,
     "metadata": {},
     "output_type": "execute_result"
    }
   ],
   "source": [
    "resp.json()"
   ]
  },
  {
   "cell_type": "code",
   "execution_count": 42,
   "metadata": {},
   "outputs": [
    {
     "name": "stdout",
     "output_type": "stream",
     "text": [
      "十二月 13\n",
      "十二月 14\n",
      "十二月 15\n",
      "十二月 16\n",
      "十二月 17\n"
     ]
    }
   ],
   "source": [
    "# 指定放映地區\n",
    "area_id = 28\n",
    "\n",
    "# 向網站發送請求\n",
    "url = 'https://movies.yahoo.com.tw/movietime_result.html'\n",
    "payload = {'movie_id':str(movie_id), 'area_id':str(area_id)}\n",
    "resp = requests.get(url, params=payload)\n",
    "resp.encoding = 'utf-8'\n",
    "\n",
    "soup = BeautifulSoup(resp.text, 'lxml')\n",
    "movie_date = soup.find_all(\"label\", attrs={'for':re.compile(\"date_[\\d]\")})\n",
    "\n",
    "# 列印播放日期\n",
    "for date in movie_date:\n",
    "    print(\"%s %s\" % (date.p.string, date.h3.string))"
   ]
  },
  {
   "cell_type": "code",
   "execution_count": 109,
   "metadata": {},
   "outputs": [
    {
     "data": {
      "text/plain": [
       "[<label class=\"picker_label\" for=\"date_0\">\n",
       " <p class=\"month\">十二月</p>\n",
       " <h3 class=\"day\">13</h3>\n",
       " <p class=\"week\">今天</p>\n",
       " </label>, <label class=\"picker_label\" for=\"date_1\">\n",
       " <p class=\"month\">十二月</p>\n",
       " <h3 class=\"day\">14</h3>\n",
       " <p class=\"week\">明天</p>\n",
       " </label>, <label class=\"picker_label\" for=\"date_2\">\n",
       " <p class=\"month\">十二月</p>\n",
       " <h3 class=\"day\">15</h3>\n",
       " <p class=\"week\">禮拜天</p>\n",
       " </label>, <label class=\"picker_label\" for=\"date_3\">\n",
       " <p class=\"month\">十二月</p>\n",
       " <h3 class=\"day\">16</h3>\n",
       " <p class=\"week\">禮拜一</p>\n",
       " </label>, <label class=\"picker_label\" for=\"date_4\">\n",
       " <p class=\"month\">十二月</p>\n",
       " <h3 class=\"day\">17</h3>\n",
       " <p class=\"week\">禮拜二</p>\n",
       " </label>]"
      ]
     },
     "execution_count": 109,
     "metadata": {},
     "output_type": "execute_result"
    }
   ],
   "source": [
    "movie_date"
   ]
  },
  {
   "cell_type": "code",
   "execution_count": 50,
   "metadata": {},
   "outputs": [],
   "source": [
    "date = \"2019-12-17\"\n",
    "\n",
    "# 向網站發送請求，獲取上映的電影院及時間資訊\n",
    "url = \"https://movies.yahoo.com.tw/ajax/pc/get_schedule_by_movie\"\n",
    "payload = {'movie_id':str(movie_id),\n",
    "           'date':date,\n",
    "           'area_id':str(area_id),\n",
    "           'theater_id':'',\n",
    "           'datetime':'',\n",
    "           'movie_type_id':''}\n",
    "\n",
    "resp = requests.get(url, params=payload)\n",
    "#print(resp.json()['view'])  # 若有需要，列印出json原始碼\n",
    "\n",
    "soup = BeautifulSoup(resp.json()['view'], 'lxml')\n",
    "html = soup.find_all(\"ul\", attrs={'data-theater_name':re.compile(\".*\")})"
   ]
  },
  {
   "cell_type": "code",
   "execution_count": 52,
   "metadata": {},
   "outputs": [
    {
     "data": {
      "text/plain": [
       "[<ul class=\"area_time _c jq_area_time\" data-theater_name=\"台北信義威秀影城\" data-theater_schedules=\"https://movies.yahoo.com.tw/theater_result.html/id=45\" data-theater_url=\"http://www.vscinemas.com.tw/\" id=\"theater_id_45\">\n",
       " <li class=\"adds\">\n",
       " <a href=\"https://movies.yahoo.com.tw/theater_result.html/id=45\">台北信義威秀影城</a>\n",
       " <span>02-87805566</span>\n",
       " </li>\n",
       " <li class=\"taps\">\n",
       " <span class=\"tapR\">數位</span> </li>\n",
       " <li class=\"time _c\">\n",
       " <div class=\"input_picker jq_input_picker\">\n",
       " <input class=\"gabtn\" data-cinema=\"40288eb0050f542401050f554e7e0674\" data-date=\"1576512000\" data-ezding=\"ezding\" data-ga=\"['電影頁_時刻表', '電影頁_時刻表_場次', '特約經紀公司']\" data-movie=\"746c3af28624411e878958607affc44a\" data-movie_date=\"12.17\" data-movie_time=\"11:40\" data-movie_title=\"特約經紀公司\" data-movie_type=\"數位\" data-session=\"3640248742cd44929a15afc7c246135a\" data-time=\"1576554000\" id=\"72571026\" name=\"schedule_list\" type=\"radio\" value=\"2019-12-17 11:40:00\"/>\n",
       " <label class=\"select\" for=\"72571026\">11:40</label>\n",
       " <input class=\"gabtn\" data-cinema=\"40288eb0050f542401050f554e7e0674\" data-date=\"1576512000\" data-ezding=\"ezding\" data-ga=\"['電影頁_時刻表', '電影頁_時刻表_場次', '特約經紀公司']\" data-movie=\"746c3af28624411e878958607affc44a\" data-movie_date=\"12.17\" data-movie_time=\"22:40\" data-movie_title=\"特約經紀公司\" data-movie_type=\"數位\" data-session=\"a7f24dfd3137448790c94d15e7f053cc\" data-time=\"1576593600\" id=\"72571027\" name=\"schedule_list\" type=\"radio\" value=\"2019-12-17 22:40:00\"/>\n",
       " <label class=\"select\" for=\"72571027\">22:40</label>\n",
       " </div>\n",
       " </li>\n",
       " </ul>,\n",
       " <ul class=\"area_time _c jq_area_time\" data-theater_name=\"喜樂時代影城南港店\" data-theater_schedules=\"https://movies.yahoo.com.tw/theater_result.html/id=186\" data-theater_url=\"http://www.centuryasia.com.tw/default.aspx\" id=\"theater_id_186\">\n",
       " <li class=\"adds\">\n",
       " <a href=\"https://movies.yahoo.com.tw/theater_result.html/id=186\">喜樂時代影城南港店</a>\n",
       " <span>02-27888185</span>\n",
       " </li>\n",
       " <li class=\"taps\">\n",
       " <span class=\"tapR\">數位</span> </li>\n",
       " <li class=\"time _c\">\n",
       " <div class=\"input_picker jq_input_picker\">\n",
       " <input class=\"gabtn\" data-cinema=\"40288eb0050f542401050f5681782dc5\" data-date=\"1576512000\" data-ezding=\"ezding\" data-ga=\"['電影頁_時刻表', '電影頁_時刻表_場次', '特約經紀公司']\" data-movie=\"3aea38535f7141c08d413b136c41fee8\" data-movie_date=\"12.17\" data-movie_time=\"12:45\" data-movie_title=\"特約經紀公司\" data-movie_type=\"數位\" data-session=\"0bcdfcf647ef4086848fee647a274d46\" data-time=\"1576557900\" id=\"72576776\" name=\"schedule_list\" type=\"radio\" value=\"2019-12-17 12:45:00\"/>\n",
       " <label class=\"select\" for=\"72576776\">12:45</label>\n",
       " </div>\n",
       " </li>\n",
       " </ul>]"
      ]
     },
     "execution_count": 52,
     "metadata": {},
     "output_type": "execute_result"
    }
   ],
   "source": [
    "html"
   ]
  },
  {
   "cell_type": "code",
   "execution_count": 153,
   "metadata": {},
   "outputs": [
    {
     "data": {
      "text/plain": [
       "'台北信義威秀影城'"
      ]
     },
     "execution_count": 153,
     "metadata": {},
     "output_type": "execute_result"
    }
   ],
   "source": [
    "html[0].find_all('li',class_='adds')[0].a.text"
   ]
  },
  {
   "cell_type": "code",
   "execution_count": 121,
   "metadata": {},
   "outputs": [
    {
     "data": {
      "text/plain": [
       "[<div class=\"input_picker jq_input_picker\">\n",
       " <input class=\"gabtn\" data-cinema=\"40288eb0050f542401050f554e7e0674\" data-date=\"1576512000\" data-ezding=\"ezding\" data-ga=\"['電影頁_時刻表', '電影頁_時刻表_場次', '特約經紀公司']\" data-movie=\"746c3af28624411e878958607affc44a\" data-movie_date=\"12.17\" data-movie_time=\"11:40\" data-movie_title=\"特約經紀公司\" data-movie_type=\"數位\" data-session=\"3640248742cd44929a15afc7c246135a\" data-time=\"1576554000\" id=\"72571026\" name=\"schedule_list\" type=\"radio\" value=\"2019-12-17 11:40:00\"/>\n",
       " <label class=\"select\" for=\"72571026\">11:40</label>\n",
       " <input class=\"gabtn\" data-cinema=\"40288eb0050f542401050f554e7e0674\" data-date=\"1576512000\" data-ezding=\"ezding\" data-ga=\"['電影頁_時刻表', '電影頁_時刻表_場次', '特約經紀公司']\" data-movie=\"746c3af28624411e878958607affc44a\" data-movie_date=\"12.17\" data-movie_time=\"22:40\" data-movie_title=\"特約經紀公司\" data-movie_type=\"數位\" data-session=\"a7f24dfd3137448790c94d15e7f053cc\" data-time=\"1576593600\" id=\"72571027\" name=\"schedule_list\" type=\"radio\" value=\"2019-12-17 22:40:00\"/>\n",
       " <label class=\"select\" for=\"72571027\">22:40</label>\n",
       " </div>]"
      ]
     },
     "execution_count": 121,
     "metadata": {},
     "output_type": "execute_result"
    }
   ],
   "source": [
    "html.find_all('option',attrs={'data-name':re.compile('.*')})[1]['data-name']"
   ]
  },
  {
   "cell_type": "code",
   "execution_count": 156,
   "metadata": {},
   "outputs": [
    {
     "name": "stdout",
     "output_type": "stream",
     "text": [
      "電影院 : 台北信義威秀影城\n",
      "影片放映類型 : 數位\n",
      "2019-12-17 11:40:00\n",
      "2019-12-17 22:40:00\n",
      "---------------\n",
      "電影院 : 喜樂時代影城南港店\n",
      "影片放映類型 : 數位\n",
      "2019-12-17 12:45:00\n",
      "---------------\n"
     ]
    }
   ],
   "source": [
    "for d in html:\n",
    "    print('電影院 :',d.find_all('li',class_='adds')[0].a.text,end='')\n",
    "    print( '\\n影片放映類型 :',     d.find_all('span',class_='tapR')[0].text)\n",
    "    for i in range(len(d.find_all('input',attrs={'value':re.compile('.*')}))):\n",
    "        print(d.find_all('input',attrs={'value':re.compile('.*')})[i]['value'],)\n",
    "        \n",
    "    print('---------------')\n"
   ]
  },
  {
   "cell_type": "code",
   "execution_count": null,
   "metadata": {},
   "outputs": [],
   "source": []
  }
 ],
 "metadata": {
  "kernelspec": {
   "display_name": "Python 3",
   "language": "python",
   "name": "python3"
  },
  "language_info": {
   "codemirror_mode": {
    "name": "ipython",
    "version": 3
   },
   "file_extension": ".py",
   "mimetype": "text/x-python",
   "name": "python",
   "nbconvert_exporter": "python",
   "pygments_lexer": "ipython3",
   "version": "3.6.6"
  }
 },
 "nbformat": 4,
 "nbformat_minor": 2
}

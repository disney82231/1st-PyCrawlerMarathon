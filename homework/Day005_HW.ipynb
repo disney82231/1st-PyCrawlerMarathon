{
 "cells": [
  {
   "cell_type": "code",
   "execution_count": 3,
   "metadata": {},
   "outputs": [],
   "source": [
    "\n",
    "import json\n",
    "import requests"
   ]
  },
  {
   "cell_type": "code",
   "execution_count": 8,
   "metadata": {},
   "outputs": [],
   "source": [
    "r = requests.get('https://www.dcard.tw/_api/forums/pet/posts?popular=true')\n",
    "response = r.text\n",
    "\n",
    "data = json.loads(response)\n",
    "\n"
   ]
  },
  {
   "cell_type": "code",
   "execution_count": 26,
   "metadata": {},
   "outputs": [
    {
     "name": "stdout",
     "output_type": "stream",
     "text": [
      "回傳 30 筆\n",
      "包含 dict_keys(['id', 'title', 'excerpt', 'anonymousSchool', 'anonymousDepartment', 'pinned', 'forumId', 'replyId', 'createdAt', 'updatedAt', 'commentCount', 'likeCount', 'withNickname', 'tags', 'topics', 'meta', 'forumName', 'forumAlias', 'gender', 'school', 'department', 'replyTitle', 'mediaMeta', 'reactions', 'hidden', 'customStyle', 'isSuspiciousAccount', 'layout', 'withImages', 'withVideos', 'media', 'reportReasonText', 'postAvatar'])\n"
     ]
    }
   ],
   "source": [
    "print('回傳',len(data),'筆')\n",
    "print('包含',data[0].keys())"
   ]
  },
  {
   "cell_type": "code",
   "execution_count": 20,
   "metadata": {},
   "outputs": [
    {
     "name": "stdout",
     "output_type": "stream",
     "text": [
      "[['我家的貓每天睡覺前一定會做的事', 4580, '2019-11-30T06:52:29.882Z', 137], ['被擠床原來是一件幸福的事', 1751, '2019-11-30T04:15:42.699Z', 24], ['#哈士奇 滿一歲啦 文長 滿滿的二哈', 969, '2019-11-30T16:30:51.154Z', 25], ['媽 晚餐好了沒', 695, '2019-11-30T10:42:58.582Z', 5], ['有人要吸兔嗎？', 324, '2019-11-30T04:58:10.195Z', 42], ['原來柴犬可以那麽可愛🐕', 79, '2019-11-30T17:17:51.628Z', 2], ['你到底是貓還是狗？', 79, '2019-11-30T14:32:06.500Z', 11], ['好像買太小了...', 64, '2019-12-01T08:27:28.504Z', 5], ['我養的是工讀生？🤔', 58, '2019-12-01T02:07:09.729Z', 6], ['白圍巾白手套橘貓❤️', 55, '2019-11-30T07:44:14.420Z', 6], ['四個月的布偶屁貓', 48, '2019-11-30T11:24:26.047Z', 2], ['從沒想過山竹可以這麼可口ฅ', 35, '2019-11-30T10:24:08.529Z', 6], ['#柴 #影片 到底有多討厭洗澡', 32, '2019-11-30T03:24:55.897Z', 1], ['如果當初這樣做 或許結局就能不同了吧', 27, '2019-12-01T00:49:18.221Z', 0], ['我不是貓 我是兔子', 27, '2019-11-30T11:16:53.115Z', 1], ['自嗨小橘貓', 24, '2019-11-30T20:21:16.782Z', 1], ['小寶貝', 23, '2019-11-30T16:01:13.979Z', 0], ['你一定要這樣厭世嗎', 23, '2019-11-30T13:05:07.439Z', 1], ['就算之後天天吃泡麵也要救活妳', 22, '2019-11-30T11:59:28.473Z', 0], ['#貓咪 十隻白貓九隻胖', 21, '2019-11-30T15:24:46.075Z', 6], ['#貓 #影 #圖 不只慢半拍ㄉ音癡（？', 21, '2019-11-30T08:14:35.514Z', 2], ['我家阿咪的特技', 17, '2019-11-30T18:43:59.640Z', 4], ['我家貓咪真可愛♥️♥️', 14, '2019-11-30T06:31:53.631Z', 6], ['請問⋯妳是在哈囉？', 13, '2019-11-30T19:16:39.494Z', 2], ['急尋愛貓一隻🙏🙏', 13, '2019-11-30T13:31:14.399Z', 2], ['貓咪沒在尊重男友', 11, '2019-12-01T10:44:13.896Z', 3], ['一隻會傳球的貓', 11, '2019-11-30T18:36:38.485Z', 0], ['寵物過世碰到的外套', 10, '2019-12-01T09:23:54.879Z', 3], ['#圖多 可愛喵喵們(⁎⁍̴̛ᴗ⁍̴̛⁎)', 10, '2019-12-01T08:44:25.791Z', 1], ['虎爺公的細漢欸（小弟）', 10, '2019-11-30T19:16:31.808Z', 0]]\n"
     ]
    }
   ],
   "source": [
    "mykeys = ['title', 'likeCount','createdAt','commentCount']\n",
    "List=[]\n",
    "for i in range(0,len(data)):\n",
    "    newList=[data[i][k] for k in mykeys if k in data[0]]\n",
    "    List.append(newList)\n",
    "print (List)"
   ]
  },
  {
   "cell_type": "code",
   "execution_count": 22,
   "metadata": {},
   "outputs": [
    {
     "data": {
      "text/plain": [
       "['#哈士奇 滿一歲啦 文長 滿滿的二哈', 969, '2019-11-30T16:30:51.154Z', 25]"
      ]
     },
     "execution_count": 22,
     "metadata": {},
     "output_type": "execute_result"
    }
   ],
   "source": []
  },
  {
   "cell_type": "code",
   "execution_count": 27,
   "metadata": {},
   "outputs": [],
   "source": [
    "r1 = requests.get('https://www.dcard.tw/_api/forums/pet/posts?popular=false')\n",
    "response1 = r1.text\n",
    "\n",
    "data1 = json.loads(response1)"
   ]
  },
  {
   "cell_type": "code",
   "execution_count": 36,
   "metadata": {},
   "outputs": [
    {
     "name": "stdout",
     "output_type": "stream",
     "text": [
      "302.2\n",
      "10.133333333333333\n"
     ]
    }
   ],
   "source": [
    "popular=0\n",
    "comment=0\n",
    "for i in data:\n",
    "    popular+=(i['likeCount'])\n",
    "    comment+=(i['commentCount'])\n",
    "print(popular/len(data))\n",
    "print(comment/len(data))"
   ]
  },
  {
   "cell_type": "code",
   "execution_count": 37,
   "metadata": {},
   "outputs": [
    {
     "name": "stdout",
     "output_type": "stream",
     "text": [
      "6.433333333333334\n",
      "1.4\n"
     ]
    }
   ],
   "source": [
    "popular_nopopu=0\n",
    "comment_nopopu=0\n",
    "for i in data1:\n",
    "    popular_nopopu+=(i['likeCount'])\n",
    "    comment_nopopu+=(i['commentCount'])\n",
    "print(popular_nopopu/len(data1))\n",
    "print(comment_nopopu/len(data1))"
   ]
  },
  {
   "cell_type": "code",
   "execution_count": null,
   "metadata": {},
   "outputs": [],
   "source": []
  }
 ],
 "metadata": {
  "kernelspec": {
   "display_name": "Python 3",
   "language": "python",
   "name": "python3"
  },
  "language_info": {
   "codemirror_mode": {
    "name": "ipython",
    "version": 3
   },
   "file_extension": ".py",
   "mimetype": "text/x-python",
   "name": "python",
   "nbconvert_exporter": "python",
   "pygments_lexer": "ipython3",
   "version": "3.6.6"
  }
 },
 "nbformat": 4,
 "nbformat_minor": 2
}
